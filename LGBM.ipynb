{
 "cells": [
  {
   "cell_type": "markdown",
   "metadata": {},
   "source": [
    "### Import library"
   ]
  },
  {
   "cell_type": "code",
   "execution_count": 1,
   "metadata": {},
   "outputs": [],
   "source": [
    "import numpy as np\n",
    "import pandas as pd\n",
    "import lightgbm as lgb"
   ]
  },
  {
   "cell_type": "markdown",
   "metadata": {},
   "source": [
    "### Load data"
   ]
  },
  {
   "cell_type": "code",
   "execution_count": 2,
   "metadata": {},
   "outputs": [],
   "source": [
    "df = pd.read_csv('train.csv')"
   ]
  },
  {
   "cell_type": "code",
   "execution_count": 3,
   "metadata": {},
   "outputs": [
    {
     "data": {
      "text/html": [
       "<div>\n",
       "<style scoped>\n",
       "    .dataframe tbody tr th:only-of-type {\n",
       "        vertical-align: middle;\n",
       "    }\n",
       "\n",
       "    .dataframe tbody tr th {\n",
       "        vertical-align: top;\n",
       "    }\n",
       "\n",
       "    .dataframe thead th {\n",
       "        text-align: right;\n",
       "    }\n",
       "</style>\n",
       "<table border=\"1\" class=\"dataframe\">\n",
       "  <thead>\n",
       "    <tr style=\"text-align: right;\">\n",
       "      <th></th>\n",
       "      <th>ID</th>\n",
       "      <th>Click</th>\n",
       "      <th>F01</th>\n",
       "      <th>F02</th>\n",
       "      <th>F03</th>\n",
       "      <th>F04</th>\n",
       "      <th>F05</th>\n",
       "      <th>F06</th>\n",
       "      <th>F07</th>\n",
       "      <th>F08</th>\n",
       "      <th>...</th>\n",
       "      <th>F30</th>\n",
       "      <th>F31</th>\n",
       "      <th>F32</th>\n",
       "      <th>F33</th>\n",
       "      <th>F34</th>\n",
       "      <th>F35</th>\n",
       "      <th>F36</th>\n",
       "      <th>F37</th>\n",
       "      <th>F38</th>\n",
       "      <th>F39</th>\n",
       "    </tr>\n",
       "  </thead>\n",
       "  <tbody>\n",
       "    <tr>\n",
       "      <th>0</th>\n",
       "      <td>TRAIN_00000000</td>\n",
       "      <td>1</td>\n",
       "      <td>NSLHFNS</td>\n",
       "      <td>AVKQTCL</td>\n",
       "      <td>DTZFPRW</td>\n",
       "      <td>114.0</td>\n",
       "      <td>ISVXFVA</td>\n",
       "      <td>1</td>\n",
       "      <td>PQZBVMG</td>\n",
       "      <td>LPYPUNA</td>\n",
       "      <td>...</td>\n",
       "      <td>NZGEZLW</td>\n",
       "      <td>GTISJWW</td>\n",
       "      <td>380.0</td>\n",
       "      <td>2.0</td>\n",
       "      <td>AXQFZWC</td>\n",
       "      <td>IRUDRFB</td>\n",
       "      <td>NaN</td>\n",
       "      <td>TFJMLCZ</td>\n",
       "      <td>0.0</td>\n",
       "      <td>AURZYDY</td>\n",
       "    </tr>\n",
       "    <tr>\n",
       "      <th>1</th>\n",
       "      <td>TRAIN_00000001</td>\n",
       "      <td>0</td>\n",
       "      <td>VGIVWZQ</td>\n",
       "      <td>LSUSMVO</td>\n",
       "      <td>PQGWFJZ</td>\n",
       "      <td>26.0</td>\n",
       "      <td>NFRVLWS</td>\n",
       "      <td>43</td>\n",
       "      <td>IMPIGJT</td>\n",
       "      <td>MIGYEEG</td>\n",
       "      <td>...</td>\n",
       "      <td>NZGEZLW</td>\n",
       "      <td>GTISJWW</td>\n",
       "      <td>466.0</td>\n",
       "      <td>1.0</td>\n",
       "      <td>DRVVDHZ</td>\n",
       "      <td>IRUDRFB</td>\n",
       "      <td>19.0</td>\n",
       "      <td>AUGTURV</td>\n",
       "      <td>0.0</td>\n",
       "      <td>LUZRMLU</td>\n",
       "    </tr>\n",
       "    <tr>\n",
       "      <th>2</th>\n",
       "      <td>TRAIN_00000002</td>\n",
       "      <td>0</td>\n",
       "      <td>JCDXFYU</td>\n",
       "      <td>PILDDJU</td>\n",
       "      <td>IAGJDOH</td>\n",
       "      <td>119.0</td>\n",
       "      <td>LFPUEOV</td>\n",
       "      <td>0</td>\n",
       "      <td>FFUTIRZ</td>\n",
       "      <td>OFKQGTY</td>\n",
       "      <td>...</td>\n",
       "      <td>VHXETCF</td>\n",
       "      <td>KHZNEZF</td>\n",
       "      <td>197.0</td>\n",
       "      <td>0.0</td>\n",
       "      <td>QMOULXS</td>\n",
       "      <td>IRUDRFB</td>\n",
       "      <td>8.0</td>\n",
       "      <td>ZVSTLNM</td>\n",
       "      <td>0.0</td>\n",
       "      <td>MHBRSQK</td>\n",
       "    </tr>\n",
       "    <tr>\n",
       "      <th>3</th>\n",
       "      <td>TRAIN_00000003</td>\n",
       "      <td>1</td>\n",
       "      <td>PSMFWTP</td>\n",
       "      <td>ZYAVJHP</td>\n",
       "      <td>NaN</td>\n",
       "      <td>15.0</td>\n",
       "      <td>ATQPZSJ</td>\n",
       "      <td>26</td>\n",
       "      <td>ZDTZNSB</td>\n",
       "      <td>THBWWCD</td>\n",
       "      <td>...</td>\n",
       "      <td>IVIRTPR</td>\n",
       "      <td>GTISJWW</td>\n",
       "      <td>8640.0</td>\n",
       "      <td>0.0</td>\n",
       "      <td>IZLJUJS</td>\n",
       "      <td>IRUDRFB</td>\n",
       "      <td>14.0</td>\n",
       "      <td>ZBSRLCQ</td>\n",
       "      <td>0.0</td>\n",
       "      <td>GAZBSSZ</td>\n",
       "    </tr>\n",
       "    <tr>\n",
       "      <th>4</th>\n",
       "      <td>TRAIN_00000004</td>\n",
       "      <td>0</td>\n",
       "      <td>SLCRICD</td>\n",
       "      <td>QPQWGXA</td>\n",
       "      <td>NaN</td>\n",
       "      <td>13.0</td>\n",
       "      <td>CHZGJZR</td>\n",
       "      <td>20</td>\n",
       "      <td>PQZBVMG</td>\n",
       "      <td>MIGYEEG</td>\n",
       "      <td>...</td>\n",
       "      <td>NZGEZLW</td>\n",
       "      <td>WHSRKIM</td>\n",
       "      <td>41774.0</td>\n",
       "      <td>0.0</td>\n",
       "      <td>BHBIZCL</td>\n",
       "      <td>IRUDRFB</td>\n",
       "      <td>13.0</td>\n",
       "      <td>QHYLSBX</td>\n",
       "      <td>0.0</td>\n",
       "      <td>QTATWAY</td>\n",
       "    </tr>\n",
       "  </tbody>\n",
       "</table>\n",
       "<p>5 rows × 41 columns</p>\n",
       "</div>"
      ],
      "text/plain": [
       "               ID  Click      F01      F02      F03    F04      F05  F06  \\\n",
       "0  TRAIN_00000000      1  NSLHFNS  AVKQTCL  DTZFPRW  114.0  ISVXFVA    1   \n",
       "1  TRAIN_00000001      0  VGIVWZQ  LSUSMVO  PQGWFJZ   26.0  NFRVLWS   43   \n",
       "2  TRAIN_00000002      0  JCDXFYU  PILDDJU  IAGJDOH  119.0  LFPUEOV    0   \n",
       "3  TRAIN_00000003      1  PSMFWTP  ZYAVJHP      NaN   15.0  ATQPZSJ   26   \n",
       "4  TRAIN_00000004      0  SLCRICD  QPQWGXA      NaN   13.0  CHZGJZR   20   \n",
       "\n",
       "       F07      F08  ...      F30      F31      F32  F33      F34      F35  \\\n",
       "0  PQZBVMG  LPYPUNA  ...  NZGEZLW  GTISJWW    380.0  2.0  AXQFZWC  IRUDRFB   \n",
       "1  IMPIGJT  MIGYEEG  ...  NZGEZLW  GTISJWW    466.0  1.0  DRVVDHZ  IRUDRFB   \n",
       "2  FFUTIRZ  OFKQGTY  ...  VHXETCF  KHZNEZF    197.0  0.0  QMOULXS  IRUDRFB   \n",
       "3  ZDTZNSB  THBWWCD  ...  IVIRTPR  GTISJWW   8640.0  0.0  IZLJUJS  IRUDRFB   \n",
       "4  PQZBVMG  MIGYEEG  ...  NZGEZLW  WHSRKIM  41774.0  0.0  BHBIZCL  IRUDRFB   \n",
       "\n",
       "    F36      F37  F38      F39  \n",
       "0   NaN  TFJMLCZ  0.0  AURZYDY  \n",
       "1  19.0  AUGTURV  0.0  LUZRMLU  \n",
       "2   8.0  ZVSTLNM  0.0  MHBRSQK  \n",
       "3  14.0  ZBSRLCQ  0.0  GAZBSSZ  \n",
       "4  13.0  QHYLSBX  0.0  QTATWAY  \n",
       "\n",
       "[5 rows x 41 columns]"
      ]
     },
     "execution_count": 3,
     "metadata": {},
     "output_type": "execute_result"
    }
   ],
   "source": [
    "df.head()"
   ]
  },
  {
   "cell_type": "code",
   "execution_count": 4,
   "metadata": {},
   "outputs": [],
   "source": [
    "df2 = pd.read_csv('test.csv')"
   ]
  },
  {
   "cell_type": "code",
   "execution_count": 5,
   "metadata": {},
   "outputs": [
    {
     "name": "stderr",
     "output_type": "stream",
     "text": [
      "/tmp/ipykernel_3241675/562722388.py:24: FutureWarning: Setting an item of incompatible dtype is deprecated and will raise in a future error of pandas. Value 'NAN' has dtype incompatible with float64, please explicitly cast to a compatible dtype first.\n",
      "  df_temp.fillna('NAN', inplace=True)\n",
      "/tmp/ipykernel_3241675/562722388.py:24: FutureWarning: Setting an item of incompatible dtype is deprecated and will raise in a future error of pandas. Value 'NAN' has dtype incompatible with float64, please explicitly cast to a compatible dtype first.\n",
      "  df_temp.fillna('NAN', inplace=True)\n"
     ]
    }
   ],
   "source": [
    "# 공통 레이블 인코더 객체 생성\n",
    "from sklearn.preprocessing import LabelEncoder\n",
    "label_encoders = {}\n",
    "\n",
    "object_features = ['F01', 'F02', 'F03','F05','F07','F08','F09','F10','F12','F13','F15','F16','F17','F20','F21','F22','F23','F25','F26','F28','F30','F31','F34','F35','F37'] \n",
    "\n",
    "# 훈련 데이터셋 처리\n",
    "for feature in object_features:\n",
    "    top_categories = df[feature].value_counts().nlargest(5).index\n",
    "    df[feature + '_reduced'] = df[feature].apply(lambda x: x if x in top_categories else 'Other')\n",
    "    \n",
    "    # 레이블 인코더 저장 및 적용\n",
    "    le = LabelEncoder()\n",
    "    df[feature + '_encoded'] = le.fit_transform(df[feature + '_reduced'])\n",
    "    label_encoders[feature] = le  # 레이블 인코더 저장\n",
    "\n",
    "# 검증 데이터셋 처리\n",
    "for feature in object_features:\n",
    "    df2[feature + '_reduced'] = df2[feature].apply(lambda x: x if x in label_encoders[feature].classes_ else 'Other')\n",
    "    df2[feature + '_encoded'] = label_encoders[feature].transform(df2[feature + '_reduced'])  # 저장된 레이블 인코더 사용\n",
    "\n",
    "# 데이터 타입 및 결측값 처리\n",
    "for df_temp in [df, df2]:\n",
    "    df_temp.fillna('NAN', inplace=True)\n",
    "    float_columns = df_temp.select_dtypes(include=['float64']).columns\n",
    "    df_temp[float_columns] = df_temp[float_columns].astype('int64')\n",
    "    object_columns = df_temp.select_dtypes(include=['object']).columns\n",
    "    df_temp[object_columns] = df_temp[object_columns].astype('category')\n"
   ]
  },
  {
   "cell_type": "code",
   "execution_count": 6,
   "metadata": {},
   "outputs": [],
   "source": [
    "train = df[['Click','F01_encoded', 'F02_encoded', 'F03_encoded','F04','F05_encoded','F07_encoded','F08_encoded','F09_encoded','F10_encoded','F11','F12_encoded','F13_encoded','F14','F15_encoded','F16_encoded','F17_encoded','F18','F19','F20_encoded','F21_encoded','F22_encoded','F23_encoded','F24','F25_encoded','F26_encoded','F27','F28_encoded','F30_encoded','F31_encoded','F34_encoded','F35_encoded','F36','F37_encoded']] \n",
    "test = df2[['F01_encoded', 'F02_encoded', 'F03_encoded','F04','F05_encoded','F07_encoded','F08_encoded','F09_encoded','F10_encoded','F11','F12_encoded','F13_encoded','F14','F15_encoded','F16_encoded','F17_encoded','F18','F19','F20_encoded','F21_encoded','F22_encoded','F23_encoded','F24','F25_encoded','F26_encoded','F27','F28_encoded','F30_encoded','F31_encoded','F34_encoded','F35_encoded','F36','F37_encoded']] "
   ]
  },
  {
   "cell_type": "markdown",
   "metadata": {},
   "source": [
    "### Train"
   ]
  },
  {
   "cell_type": "code",
   "execution_count": 7,
   "metadata": {},
   "outputs": [
    {
     "name": "stdout",
     "output_type": "stream",
     "text": [
      "[LightGBM] [Warning] Categorical features with more bins than the configured maximum bin number found.\n",
      "[LightGBM] [Warning] For categorical features, max_bin and max_bin_by_feature may be ignored with a large number of categories.\n",
      "[LightGBM] [Info] Number of positive: 5569860, number of negative: 23035531\n",
      "[LightGBM] [Info] Auto-choosing row-wise multi-threading, the overhead of testing was 1.169098 seconds.\n",
      "You can set `force_row_wise=true` to remove the overhead.\n",
      "And if memory is not enough, you can set `force_col_wise=true`.\n",
      "[LightGBM] [Info] Total Bins 4642\n",
      "[LightGBM] [Info] Number of data points in the train set: 28605391, number of used features: 33\n",
      "[LightGBM] [Info] [binary:BoostFromScore]: pavg=0.194714 -> initscore=-1.419668\n",
      "[LightGBM] [Info] Start training from score -1.419668\n"
     ]
    },
    {
     "data": {
      "text/html": [
       "<style>#sk-container-id-1 {color: black;}#sk-container-id-1 pre{padding: 0;}#sk-container-id-1 div.sk-toggleable {background-color: white;}#sk-container-id-1 label.sk-toggleable__label {cursor: pointer;display: block;width: 100%;margin-bottom: 0;padding: 0.3em;box-sizing: border-box;text-align: center;}#sk-container-id-1 label.sk-toggleable__label-arrow:before {content: \"▸\";float: left;margin-right: 0.25em;color: #696969;}#sk-container-id-1 label.sk-toggleable__label-arrow:hover:before {color: black;}#sk-container-id-1 div.sk-estimator:hover label.sk-toggleable__label-arrow:before {color: black;}#sk-container-id-1 div.sk-toggleable__content {max-height: 0;max-width: 0;overflow: hidden;text-align: left;background-color: #f0f8ff;}#sk-container-id-1 div.sk-toggleable__content pre {margin: 0.2em;color: black;border-radius: 0.25em;background-color: #f0f8ff;}#sk-container-id-1 input.sk-toggleable__control:checked~div.sk-toggleable__content {max-height: 200px;max-width: 100%;overflow: auto;}#sk-container-id-1 input.sk-toggleable__control:checked~label.sk-toggleable__label-arrow:before {content: \"▾\";}#sk-container-id-1 div.sk-estimator input.sk-toggleable__control:checked~label.sk-toggleable__label {background-color: #d4ebff;}#sk-container-id-1 div.sk-label input.sk-toggleable__control:checked~label.sk-toggleable__label {background-color: #d4ebff;}#sk-container-id-1 input.sk-hidden--visually {border: 0;clip: rect(1px 1px 1px 1px);clip: rect(1px, 1px, 1px, 1px);height: 1px;margin: -1px;overflow: hidden;padding: 0;position: absolute;width: 1px;}#sk-container-id-1 div.sk-estimator {font-family: monospace;background-color: #f0f8ff;border: 1px dotted black;border-radius: 0.25em;box-sizing: border-box;margin-bottom: 0.5em;}#sk-container-id-1 div.sk-estimator:hover {background-color: #d4ebff;}#sk-container-id-1 div.sk-parallel-item::after {content: \"\";width: 100%;border-bottom: 1px solid gray;flex-grow: 1;}#sk-container-id-1 div.sk-label:hover label.sk-toggleable__label {background-color: #d4ebff;}#sk-container-id-1 div.sk-serial::before {content: \"\";position: absolute;border-left: 1px solid gray;box-sizing: border-box;top: 0;bottom: 0;left: 50%;z-index: 0;}#sk-container-id-1 div.sk-serial {display: flex;flex-direction: column;align-items: center;background-color: white;padding-right: 0.2em;padding-left: 0.2em;position: relative;}#sk-container-id-1 div.sk-item {position: relative;z-index: 1;}#sk-container-id-1 div.sk-parallel {display: flex;align-items: stretch;justify-content: center;background-color: white;position: relative;}#sk-container-id-1 div.sk-item::before, #sk-container-id-1 div.sk-parallel-item::before {content: \"\";position: absolute;border-left: 1px solid gray;box-sizing: border-box;top: 0;bottom: 0;left: 50%;z-index: -1;}#sk-container-id-1 div.sk-parallel-item {display: flex;flex-direction: column;z-index: 1;position: relative;background-color: white;}#sk-container-id-1 div.sk-parallel-item:first-child::after {align-self: flex-end;width: 50%;}#sk-container-id-1 div.sk-parallel-item:last-child::after {align-self: flex-start;width: 50%;}#sk-container-id-1 div.sk-parallel-item:only-child::after {width: 0;}#sk-container-id-1 div.sk-dashed-wrapped {border: 1px dashed gray;margin: 0 0.4em 0.5em 0.4em;box-sizing: border-box;padding-bottom: 0.4em;background-color: white;}#sk-container-id-1 div.sk-label label {font-family: monospace;font-weight: bold;display: inline-block;line-height: 1.2em;}#sk-container-id-1 div.sk-label-container {text-align: center;}#sk-container-id-1 div.sk-container {/* jupyter's `normalize.less` sets `[hidden] { display: none; }` but bootstrap.min.css set `[hidden] { display: none !important; }` so we also need the `!important` here to be able to override the default hidden behavior on the sphinx rendered scikit-learn.org. See: https://github.com/scikit-learn/scikit-learn/issues/21755 */display: inline-block !important;position: relative;}#sk-container-id-1 div.sk-text-repr-fallback {display: none;}</style><div id=\"sk-container-id-1\" class=\"sk-top-container\"><div class=\"sk-text-repr-fallback\"><pre>LGBMClassifier(objective=&#x27;binary&#x27;)</pre><b>In a Jupyter environment, please rerun this cell to show the HTML representation or trust the notebook. <br />On GitHub, the HTML representation is unable to render, please try loading this page with nbviewer.org.</b></div><div class=\"sk-container\" hidden><div class=\"sk-item\"><div class=\"sk-estimator sk-toggleable\"><input class=\"sk-toggleable__control sk-hidden--visually\" id=\"sk-estimator-id-1\" type=\"checkbox\" checked><label for=\"sk-estimator-id-1\" class=\"sk-toggleable__label sk-toggleable__label-arrow\">LGBMClassifier</label><div class=\"sk-toggleable__content\"><pre>LGBMClassifier(objective=&#x27;binary&#x27;)</pre></div></div></div></div></div>"
      ],
      "text/plain": [
       "LGBMClassifier(objective='binary')"
      ]
     },
     "execution_count": 7,
     "metadata": {},
     "output_type": "execute_result"
    }
   ],
   "source": [
    "model = lgb.LGBMClassifier(objective='binary')\n",
    "model.fit(train.drop('Click',axis=1),train['Click'],eval_metric='AUC')"
   ]
  },
  {
   "cell_type": "markdown",
   "metadata": {},
   "source": [
    "### Infer"
   ]
  },
  {
   "cell_type": "code",
   "execution_count": 8,
   "metadata": {},
   "outputs": [],
   "source": [
    "pred = model.predict_proba(test)"
   ]
  },
  {
   "cell_type": "markdown",
   "metadata": {},
   "source": [
    "### Submit"
   ]
  },
  {
   "cell_type": "code",
   "execution_count": 9,
   "metadata": {},
   "outputs": [],
   "source": [
    "sample_submission = pd.read_csv('sample_submission.csv')\n",
    "sample_submission\n",
    "\n",
    "sample_submission['Click'] = pred[:,1]\n",
    "sample_submission\n",
    "\n",
    "sample_submission.to_csv('lgbm_v2.csv', index=False)"
   ]
  }
 ],
 "metadata": {
  "kernelspec": {
   "display_name": "pt20_py310",
   "language": "python",
   "name": "pt20_py310"
  },
  "language_info": {
   "codemirror_mode": {
    "name": "ipython",
    "version": 3
   },
   "file_extension": ".py",
   "mimetype": "text/x-python",
   "name": "python",
   "nbconvert_exporter": "python",
   "pygments_lexer": "ipython3",
   "version": "3.10.13"
  }
 },
 "nbformat": 4,
 "nbformat_minor": 4
}
